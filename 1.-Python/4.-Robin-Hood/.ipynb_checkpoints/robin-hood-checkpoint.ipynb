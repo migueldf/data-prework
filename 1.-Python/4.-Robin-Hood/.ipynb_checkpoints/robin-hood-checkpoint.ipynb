{
 "cells": [
  {
   "cell_type": "markdown",
   "metadata": {},
   "source": [
    "<img src=\"https://bit.ly/2VnXWr2\" width=\"100\" align=\"left\"/>"
   ]
  },
  {
   "cell_type": "markdown",
   "metadata": {},
   "source": [
    "# Robin Hood\n",
    "Robin Hood has entered a competition to win the archery contest in Sherwood. With his bow and arrows, he needs to shoot on a target and try to hit as close as possible to the center.\n",
    "\n",
    "![](images/arrows.jpg)\n",
    "\n",
    "## Context\n",
    "In this challenge, the landing position of arrows shot by archers in the competition will be represented using 2-dimensional coordinates. \n",
    "\n",
    "In the 2-dimensional space, a point can be defined by a pair of values that correspond to the horizontal coordinate (x) and the vertical coordinate (y). For example, in our case, an arrow that hits the center of the archery target will land in position (0, 0) on the coordinate axes. \n",
    "\n",
    "The space can be divided into 4 zones (quadrants): Q1, Q2, Q3, Q4. If a point is in Q1, both its x coordinate and y coordinate are positive. Any point with a null x or y coordinate is considered to not belong to any quadrant. \n",
    "\n",
    "If you want to know more about the cartesian coordinate system, you can check this [link](https://en.wikipedia.org/wiki/Cartesian_coordinate_system). \n",
    "\n",
    "## Tools\n",
    "You don't necessarily need to use all the tools. Maybe you opt to use some of them or completely different ones, they are given to help you shape the exercise. Programming exercises can be solved in many different ways.\n",
    "* Data structures: **lists, sets, tuples**\n",
    "* Conditional statements: **if-elif-else**\n",
    "* Loop: **while/for**\n",
    "* Minimum (optional sorting)\n",
    "\n",
    "## Tasks\n",
    "Robin Hood has hit the following points:"
   ]
  },
  {
   "cell_type": "code",
   "execution_count": 72,
   "metadata": {},
   "outputs": [],
   "source": [
    "points = [(4, 5), (-0, 2), (4, 7), (1, -3), (3, -2), (4, 5), (3, 2), (5, 7), (-5, 7), (2, 2), (-4, 5), (0, -2),\n",
    "          (-4, 7), (-1, 3), (-3, 2), (-4, -5), (-3, 2), (5, 7), (5, 7), (2, 2), (9, 9), (-8, -9)]"
   ]
  },
  {
   "cell_type": "markdown",
   "metadata": {},
   "source": [
    "#### 1. Robin Hood is famous for hitting an arrow with another arrow. Find the coordinates of the points where an arrow hits another arrow."
   ]
  },
  {
   "cell_type": "code",
   "execution_count": 73,
   "metadata": {},
   "outputs": [
    {
     "name": "stdout",
     "output_type": "stream",
     "text": [
      "Robin Hood shot the same place at:\n",
      "(4, 5) , 2 times\n",
      "(5, 7) , 3 times\n",
      "(2, 2) , 2 times\n",
      "(-3, 2) , 2 times\n"
     ]
    }
   ],
   "source": [
    "points_count = {}\n",
    "same_hit = {}\n",
    "index = 0\n",
    "\n",
    "while index < len(points):\n",
    "    points_count [points[index]] = points.count(points[index])\n",
    "    index +=1\n",
    "\n",
    "for key in points_count:\n",
    "    if points_count [key] > 1:\n",
    "        same_hit [key] = points_count[key]\n",
    "\n",
    "print (\"Robin Hood shot the same place at:\")\n",
    "\n",
    "for key in same_hit:\n",
    "    print(key,\",\",same_hit[key], \"times\")\n"
   ]
  },
  {
   "cell_type": "markdown",
   "metadata": {},
   "source": [
    "#### 2. Calculate how many arrows have fallen in each quadrant. \n",
    "**Note**: the arrows that fall in the axis (x=0 or y=0) don't belong to any quadrant."
   ]
  },
  {
   "cell_type": "code",
   "execution_count": 13,
   "metadata": {},
   "outputs": [
    {
     "name": "stdout",
     "output_type": "stream",
     "text": [
      "Q1: 10 , Q2: 2 , Q3: 2 , Q4: 6\n"
     ]
    }
   ],
   "source": [
    "Q1 = 0\n",
    "Q2 = 0\n",
    "Q3 = 0\n",
    "Q4 = 0\n",
    "\n",
    "for shot in points:\n",
    "    if shot[0] >0 and shot [1] >0:\n",
    "         Q1 += 1\n",
    "    elif shot[0] >0 and shot [1] <0:\n",
    "        Q2 += 1\n",
    "    elif shot[0] <0 and shot [1] <0:\n",
    "        Q3 += 1\n",
    "    elif shot[0] <0 and shot [1] >0:\n",
    "        Q4 += 1\n",
    "        \n",
    "print (\"Q1:\",Q1, \", Q2:\",Q2, \", Q3:\",Q3, \", Q4:\",Q4)\n",
    "            \n"
   ]
  },
  {
   "cell_type": "markdown",
   "metadata": {},
   "source": [
    "#### 3. Find the point closest to the center. Calculate its distance to the center. \n",
    "Take into account that there might be more than one point at the minimum distance to the center.\n",
    "\n",
    "**Hint**: Use the Euclidean distance. You can find more information about it [here](https://en.wikipedia.org/wiki/Euclidean_distance).  \n",
    "**Hint**: Defining a function that calculates the distance to the center can help."
   ]
  },
  {
   "cell_type": "code",
   "execution_count": 36,
   "metadata": {},
   "outputs": [
    {
     "name": "stdout",
     "output_type": "stream",
     "text": [
      "Best shot were [2, 12] with a distance from target of 2.0\n"
     ]
    }
   ],
   "source": [
    "import math\n",
    "\n",
    "distances = []\n",
    "distance = 0\n",
    "best_shot = 0\n",
    "\n",
    "for shot in points:\n",
    "    distance = math.sqrt( ((shot[0] - 0)**2) + ((shot[1] - 0)**2) )\n",
    "    distances.append(distance)\n",
    "\n",
    "best_distance = min(distances)\n",
    "best_shot = []\n",
    "last_index = 0\n",
    "    \n",
    "for distance in distances:\n",
    "    if distance <= best_distance:\n",
    "        best_distance = distance\n",
    "        best_shot.append(distances.index(distance,last_index + 1,len(distances))+1)\n",
    "        last_index = distances.index(distance)\n",
    "\n",
    "print (\"Best shot were\",best_shot, \"with a distance from target of\", best_distance)\n",
    "    "
   ]
  },
  {
   "cell_type": "markdown",
   "metadata": {},
   "source": [
    "#### 4. If the archery target has a radius of 9, calculate the number of arrows that won't hit the target. \n",
    "**Hint**: Use the function created in step 3. "
   ]
  },
  {
   "cell_type": "code",
   "execution_count": 37,
   "metadata": {},
   "outputs": [
    {
     "name": "stdout",
     "output_type": "stream",
     "text": [
      "2 were missed\n"
     ]
    }
   ],
   "source": [
    "missed_shots = 0\n",
    "target_radius = 9\n",
    "\n",
    "for distance in distances:\n",
    "    if distance > target_radius:\n",
    "        missed_shots += 1\n",
    "    \n",
    "print (missed_shots,\"were missed\")"
   ]
  },
  {
   "cell_type": "code",
   "execution_count": null,
   "metadata": {},
   "outputs": [],
   "source": []
  }
 ],
 "metadata": {
  "kernelspec": {
   "display_name": "Python 3",
   "language": "python",
   "name": "python3"
  },
  "language_info": {
   "codemirror_mode": {
    "name": "ipython",
    "version": 3
   },
   "file_extension": ".py",
   "mimetype": "text/x-python",
   "name": "python",
   "nbconvert_exporter": "python",
   "pygments_lexer": "ipython3",
   "version": "3.9.0"
  }
 },
 "nbformat": 4,
 "nbformat_minor": 2
}
